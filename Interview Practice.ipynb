{
 "cells": [
  {
   "cell_type": "markdown",
   "metadata": {},
   "source": [
    "Fibonacci: 1,1,2,3,5,8,13..."
   ]
  },
  {
   "cell_type": "code",
   "execution_count": null,
   "metadata": {},
   "outputs": [],
   "source": [
    "import cv2\n",
    "import numpy as np\n",
    "from matplotlib import pyplot as plt\n",
    "\n",
    "img = cv2.imread('messi5.jpg',0)\n",
    "edges = cv2.Canny(img,100,200)\n",
    "\n",
    "plt.subplot(121),plt.imshow(img,cmap = 'gray')\n",
    "plt.title('Original Image'), plt.xticks([]), plt.yticks([])\n",
    "plt.subplot(122),plt.imshow(edges,cmap = 'gray')\n",
    "plt.title('Edge Image'), plt.xticks([]), plt.yticks([])\n",
    "\n",
    "plt.show()"
   ]
  },
  {
   "cell_type": "code",
   "execution_count": null,
   "metadata": {},
   "outputs": [],
   "source": []
  },
  {
   "cell_type": "code",
   "execution_count": null,
   "metadata": {},
   "outputs": [],
   "source": []
  },
  {
   "cell_type": "code",
   "execution_count": 8,
   "metadata": {},
   "outputs": [
    {
     "data": {
      "text/plain": [
       "8"
      ]
     },
     "execution_count": 8,
     "metadata": {},
     "output_type": "execute_result"
    }
   ],
   "source": [
    "#Step 1: recursion O(2^n)\n",
    "def fib(n):\n",
    "    if n==1 or n==2:\n",
    "        result=1\n",
    "    else: \n",
    "        result=fib(n-1)+fib(n-2)\n",
    "    return result\n"
   ]
  },
  {
   "cell_type": "code",
   "execution_count": 14,
   "metadata": {},
   "outputs": [
    {
     "data": {
      "text/plain": [
       "55"
      ]
     },
     "execution_count": 14,
     "metadata": {},
     "output_type": "execute_result"
    }
   ],
   "source": [
    "# Fibonacci: Step 2: Memorized solution - Dynamic programing O(n)\n",
    "# this is recursionerror at fib(1000) because to many recursion calls=> fix by bottom_up approach\n",
    "def fib_2(n,memo):\n",
    "    if memo[n] is not None:\n",
    "        return memo[n]\n",
    "    if n==1 or n==2:\n",
    "        result=1\n",
    "    else:\n",
    "        result=fib_2(n-1, memo)+fib_2(n-2, memo)\n",
    "        memo[n]=result\n",
    "    return result\n",
    "def fib_memo(n):\n",
    "    memo=[None]*(n+1)\n",
    "    return fib_2(n, memo)\n",
    "\n",
    "fib_memo(10)\n"
   ]
  },
  {
   "cell_type": "code",
   "execution_count": 23,
   "metadata": {},
   "outputs": [
    {
     "data": {
      "text/plain": [
       "9227465"
      ]
     },
     "execution_count": 23,
     "metadata": {},
     "output_type": "execute_result"
    }
   ],
   "source": [
    "# step 3: Bottom_up approach- Dynamic programing  O(n)\n",
    "def fib_bottom_up(n):\n",
    "    if n==1 or n==2:\n",
    "        return 1\n",
    "    bottom_up= [None]*(n+1)\n",
    "    bottom_up[1]=1\n",
    "    bottom_up[2]=1\n",
    "    for i in range (3, n+1):\n",
    "        bottom_up[i]=bottom_up[i-1]+bottom_up[i-2]\n",
    "    return bottom_up[n]\n",
    "fib_bottom_up(35)"
   ]
  },
  {
   "cell_type": "markdown",
   "metadata": {},
   "source": [
    "88. Merge sorted array:\n",
    "    Given two sorted integer arrays nums1 and nums2, merge nums2 into nums1 as one sorted array.\n",
    "\n",
    "Note:\n",
    "\n",
    "The number of elements initialized in nums1 and nums2 are m and n respectively.\n",
    "You may assume that nums1 has enough space (size that is greater or equal to m + n) to hold additional elements from nums2.\n",
    "Example:\n",
    "\n",
    "Input:\n",
    "nums1 = [1,2,3,0,0,0], m = 3\n",
    "nums2 = [2,5,6],       n = 3\n",
    "\n",
    "Output: [1,2,2,3,5,6]"
   ]
  },
  {
   "cell_type": "code",
   "execution_count": 7,
   "metadata": {},
   "outputs": [
    {
     "name": "stdout",
     "output_type": "stream",
     "text": [
      "None [1, 2, 3, 0, 0, 2]\n"
     ]
    }
   ],
   "source": [
    "def mergeSortedArray(self,nums1,m,nums2,n):\n",
    "    p1,p2,p=m-1,n-1,m+n-1\n",
    "    while p1>-1 and p2>-1:\n",
    "        if nums1[p1]>nums2[p2]:\n",
    "            nums1[p]=nums1[p1]\n",
    "            p1-=1\n",
    "        else: \n",
    "            nums1[p]=nums2[p2]\n",
    "            p2-=1\n",
    "    if p2>-1:\n",
    "        nums1[:p2+1]=nums2[:p2+1]\n",
    "        \n",
    "A1 = [1,2,3,0,0,0]\n",
    "B2 = [2,5,6]\n",
    "print(mergeSortedArray(A1,A1,3,B2,3),A1)"
   ]
  },
  {
   "cell_type": "code",
   "execution_count": 9,
   "metadata": {},
   "outputs": [
    {
     "ename": "NameError",
     "evalue": "name 'List' is not defined",
     "output_type": "error",
     "traceback": [
      "\u001b[1;31m---------------------------------------------------------------------------\u001b[0m",
      "\u001b[1;31mNameError\u001b[0m                                 Traceback (most recent call last)",
      "\u001b[1;32m<ipython-input-9-4041c7dc42d3>\u001b[0m in \u001b[0;36m<module>\u001b[1;34m()\u001b[0m\n\u001b[1;32m----> 1\u001b[1;33m \u001b[1;32mdef\u001b[0m \u001b[0mmerge\u001b[0m\u001b[1;33m(\u001b[0m\u001b[0mself\u001b[0m\u001b[1;33m,\u001b[0m \u001b[0mnums1\u001b[0m\u001b[1;33m:\u001b[0m \u001b[0mList\u001b[0m\u001b[1;33m[\u001b[0m\u001b[0mint\u001b[0m\u001b[1;33m]\u001b[0m\u001b[1;33m,\u001b[0m \u001b[0mm\u001b[0m\u001b[1;33m:\u001b[0m \u001b[0mint\u001b[0m\u001b[1;33m,\u001b[0m \u001b[0mnums2\u001b[0m\u001b[1;33m:\u001b[0m \u001b[0mList\u001b[0m\u001b[1;33m[\u001b[0m\u001b[0mint\u001b[0m\u001b[1;33m]\u001b[0m\u001b[1;33m,\u001b[0m \u001b[0mn\u001b[0m\u001b[1;33m:\u001b[0m \u001b[0mint\u001b[0m\u001b[1;33m)\u001b[0m \u001b[1;33m->\u001b[0m \u001b[1;32mNone\u001b[0m\u001b[1;33m:\u001b[0m\u001b[1;33m\u001b[0m\u001b[0m\n\u001b[0m\u001b[0;32m      2\u001b[0m     \"\"\"\n\u001b[0;32m      3\u001b[0m     \u001b[0mDo\u001b[0m \u001b[1;32mnot\u001b[0m \u001b[1;32mreturn\u001b[0m \u001b[0manything\u001b[0m\u001b[1;33m,\u001b[0m \u001b[0mmodify\u001b[0m \u001b[0mnums1\u001b[0m \u001b[1;32min\u001b[0m\u001b[1;33m-\u001b[0m\u001b[0mplace\u001b[0m \u001b[0minstead\u001b[0m\u001b[1;33m.\u001b[0m\u001b[1;33m\u001b[0m\u001b[0m\n\u001b[0;32m      4\u001b[0m     \"\"\"\n\u001b[0;32m      5\u001b[0m     \u001b[1;32mwhile\u001b[0m \u001b[0mm\u001b[0m\u001b[1;33m>\u001b[0m\u001b[1;36m0\u001b[0m \u001b[1;32mand\u001b[0m \u001b[0mn\u001b[0m\u001b[1;33m>\u001b[0m\u001b[1;36m0\u001b[0m\u001b[1;33m:\u001b[0m\u001b[1;33m\u001b[0m\u001b[0m\n",
      "\u001b[1;31mNameError\u001b[0m: name 'List' is not defined"
     ]
    }
   ],
   "source": [
    "    def merge(self, nums1: List[int], m: int, nums2: List[int], n: int) -> None:\n",
    "        \"\"\"\n",
    "        Do not return anything, modify nums1 in-place instead.\n",
    "        \"\"\"\n",
    "        while m>0 and n>0:\n",
    "            if nums1[m-1]>nums2[n-1]:\n",
    "                nums1[m+n-1]=nums1[m-1]\n",
    "                m-=1\n",
    "            else:\n",
    "                nums1[m+n-1]=nums2[n-1]\n",
    "                n-=1\n",
    "        if n>0:\n",
    "            nums1[:n]=nums2[:n]\n"
   ]
  },
  {
   "cell_type": "code",
   "execution_count": 16,
   "metadata": {},
   "outputs": [
    {
     "name": "stdout",
     "output_type": "stream",
     "text": [
      "[0, 1]\n"
     ]
    }
   ],
   "source": [
    "''' 2. two sum\n",
    "Given an array of integers, return indices of the two numbers such that they add up to a specific target.\n",
    "\n",
    "You may assume that each input would have exactly one solution, and you may not use the same element twice.\n",
    "\n",
    "Example:\n",
    "\n",
    "Given nums = [2, 7, 11, 15], target = 9,\n",
    "\n",
    "Because nums[0] + nums[1] = 2 + 7 = 9,\n",
    "return [0, 1].\n",
    "9-2=7->{7:0}\n",
    "9-7=2->{7:0, 2:1}\n",
    "9-11=-2->{7:0, 2:1, -2:2}\n",
    "9-15=-6->{7:0, 2:1, -2:2}\n",
    "'''\n",
    "nums=[2, 7, 11, 15]\n",
    "target=9\n",
    "def two_sum(nums, target):\n",
    "    \n",
    "    if len(nums)<=1:\n",
    "        return false\n",
    "    dict={}\n",
    "    for i in range(len(nums)):\n",
    "        if nums[i] in dict:\n",
    "            return [dict[nums[i]], i]\n",
    "        else:\n",
    "            dict[target-nums[i]]=i\n",
    "print(two_sum(nums,target))"
   ]
  },
  {
   "cell_type": "code",
   "execution_count": 32,
   "metadata": {},
   "outputs": [
    {
     "ename": "IndentationError",
     "evalue": "unindent does not match any outer indentation level (<ipython-input-32-20f98be62a0d>, line 50)",
     "output_type": "error",
     "traceback": [
      "\u001b[1;36m  File \u001b[1;32m\"<ipython-input-32-20f98be62a0d>\"\u001b[1;36m, line \u001b[1;32m50\u001b[0m\n\u001b[1;33m    '''    if len(nums)<=2:\u001b[0m\n\u001b[1;37m                           ^\u001b[0m\n\u001b[1;31mIndentationError\u001b[0m\u001b[1;31m:\u001b[0m unindent does not match any outer indentation level\n"
     ]
    }
   ],
   "source": [
    "'''15. threeSum \n",
    "Given an array nums of n integers, are there elements a, b, c in nums such that a + b + c = 0? Find all unique triplets in the array which gives the sum of zero.\n",
    "\n",
    "Note:\n",
    "\n",
    "The solution set must not contain duplicate triplets.\n",
    "\n",
    "Example:\n",
    "\n",
    "Given array nums = [-1, 0, 1, 2, -1, -4],\n",
    "\n",
    "A solution set is:\n",
    "[\n",
    "  [-1, 0, 1],\n",
    "  [-1, -1, 2]\n",
    "]\n",
    "'''\n",
    "class solution(object):\n",
    "    \n",
    "    def threeSum(nums):\n",
    "        if len(nums)<=2:\n",
    "            return false\n",
    "        nums.sort()\n",
    "        result=[]\n",
    "        for i in range(len(nums)-2):\n",
    "            if i>0 and nums[i]==nums[i-1]:\n",
    "                continue\n",
    "            j=i+1\n",
    "            k=(len(nums)-1)\n",
    "            while j<k:\n",
    "                sum=nums[i]+nums[j]+nums[k]\n",
    "                if not sum:\n",
    "                    result.append([nums[i], nums[j], nums[k]])\n",
    "                    while nums[j]==nums[j+1]:\n",
    "                        j+=1\n",
    "                    while nums[k]==nums[k-1]:\n",
    "                        k-=1\n",
    "                    j+=1\n",
    "                    k-=1\n",
    "                elif sum<0:\n",
    "                    j+=1\n",
    "                else:\n",
    "                    k-=1\n",
    "        return result\n",
    "if __name__=='__main__':\n",
    "    nums = [-1, 0, 1, 2, -1, -4]\n",
    "    s=threeSum(nums)\n",
    "    print(s)\n",
    "#print(threeSum(nums))\n",
    " '''    if len(nums)<=2:\n",
    "            return false\n",
    "        result=[]\n",
    "        nums.sort()\n",
    "        for i in range(len(nums)-2):\n",
    "            if i>0 and nums[i]==nums[i-1]:\n",
    "                continue\n",
    "            j=i+1\n",
    "            k=(len(nums)-1)\n",
    "            while j<k:\n",
    "                sum=nums[i]+nums[j]+nums[k]\n",
    "                if not sum:\n",
    "                    result.append([nums[i],nums[k],nums[k]])\n",
    "                    while nums[j]==nums[j+1]:\n",
    "                        j+=1\n",
    "                    while nums[k]==nums[k-1]:\n",
    "                        k-=1\n",
    "                    j+=1\n",
    "                    k-=1\n",
    "                elif sum<0:\n",
    "                    j+=1\n",
    "                else:\n",
    "                    k-=1\n",
    "        return result\n",
    "    '''\n",
    "                \n",
    "    \n"
   ]
  },
  {
   "cell_type": "code",
   "execution_count": 38,
   "metadata": {},
   "outputs": [
    {
     "name": "stdout",
     "output_type": "stream",
     "text": [
      "([[-1, -1, 2], [-1, 0, 1]], [-4, -1, -1, 0, 1, 2])\n"
     ]
    }
   ],
   "source": [
    "def threeSum(nums):\n",
    "        result=[]\n",
    "        nums.sort()\n",
    "        for i in range(len(nums)-2):\n",
    "            if i>0 and nums[i]==nums[i-1]:\n",
    "                continue\n",
    "            j=i+1\n",
    "            k=(len(nums)-1)\n",
    "            while j<k:\n",
    "                sum=nums[i]+nums[j]+nums[k]\n",
    "                if sum==0:\n",
    "                    result.append([nums[i],nums[j],nums[k]])\n",
    "                    while j+1<k and nums[j]==nums[j+1]:\n",
    "                        j+=1\n",
    "                    while j<k-1 and nums[k]==nums[k-1]:\n",
    "                        k-=1\n",
    "                    j+=1\n",
    "                    k-=1\n",
    "                elif sum<0:\n",
    "                    j+=1\n",
    "                else:\n",
    "                    k-=1\n",
    "        return result, nums\n",
    "nums = [-1, 0, 1, 2, -1, -4]\n",
    "\n",
    "print(threeSum(nums))\n",
    "\n",
    "'''\n",
    "  2 lines change condition make the code run faster: \n",
    "                   while j+1<k and nums[j]==nums[j+1]:\n",
    "                        j+=1\n",
    "                    while j<k-1 and nums[k]==nums[k-1]:\n",
    "instead of : while nums[j]==nums[j+1]:\n",
    "'''"
   ]
  },
  {
   "cell_type": "code",
   "execution_count": null,
   "metadata": {},
   "outputs": [],
   "source": [
    "def threeSum(self, nums):\n",
    "\tres, d = [], {}\n",
    "\tnums.sort()\n",
    "\tfor i in range(len(nums)-2):\n",
    "\t\tl, r = i + 1, len(nums) - 1\n",
    "\t\twhile l < r:\n",
    "\t\t\ts = nums[i] + nums[l] + nums[r]\n",
    "\t\t\tt = [nums[i], nums[l], nums[r]]\n",
    "\t\t\tif s == 0:\n",
    "\t\t\t\tif str(t) not in d:\n",
    "\t\t\t\t\tres.append(t)\n",
    "\t\t\t\t\td[str(t)] = True\n",
    "\t\t\t\tl, r = l + 1, r - 1\n",
    "\t\t\telif s < 0: l += 1\n",
    "\t\t\telif s > 0: r -= 1\n",
    "\treturn res"
   ]
  },
  {
   "cell_type": "code",
   "execution_count": null,
   "metadata": {},
   "outputs": [],
   "source": [
    "'''Leetcode 937: Reorder data in logs file\n",
    "You have an array of logs.  Each log is a space delimited string of words.\n",
    "\n",
    "For each log, the first word in each log is an alphanumeric identifier.  Then, either:\n",
    "\n",
    "Each word after the identifier will consist only of lowercase letters, or;\n",
    "Each word after the identifier will consist only of digits.\n",
    "We will call these two varieties of logs letter-logs and digit-logs.  It is guaranteed that each log has at least one word after its identifier.\n",
    "\n",
    "Reorder the logs so that all of the letter-logs come before any digit-log.  The letter-logs are ordered lexicographically ignoring identifier, with the identifier used in case of ties.  The digit-logs should be put in their original order.\n",
    "\n",
    "Return the final order of the logs.\n",
    "\n",
    " \n",
    "\n",
    "Example 1:\n",
    "\n",
    "Input: logs = [\"dig1 8 1 5 1\",\"let1 art can\",\"dig2 3 6\",\"let2 own kit dig\",\"let3 art zero\"]\n",
    "Output: [\"let1 art can\",\"let3 art zero\",\"let2 own kit dig\",\"dig1 8 1 5 1\",\"dig2 3 6\"]\n",
    " \n",
    "\n",
    "Constraints:\n",
    "\n",
    "0 <= logs.length <= 100\n",
    "3 <= logs[i].length <= 100\n",
    "logs[i] is guaranteed to have an identifier, and a word after the identifier.\n",
    "'''"
   ]
  },
  {
   "cell_type": "code",
   "execution_count": 20,
   "metadata": {},
   "outputs": [
    {
     "ename": "UnboundLocalError",
     "evalue": "local variable 'C' referenced before assignment",
     "output_type": "error",
     "traceback": [
      "\u001b[1;31m---------------------------------------------------------------------------\u001b[0m",
      "\u001b[1;31mUnboundLocalError\u001b[0m                         Traceback (most recent call last)",
      "\u001b[1;32m<ipython-input-20-f055e9c66a0f>\u001b[0m in \u001b[0;36m<module>\u001b[1;34m()\u001b[0m\n\u001b[0;32m      8\u001b[0m     \u001b[1;32mreturn\u001b[0m\u001b[1;33m[\u001b[0m\u001b[1;34m''\u001b[0m\u001b[1;33m.\u001b[0m\u001b[0mjoin\u001b[0m \u001b[1;32mfor\u001b[0m \u001b[0mi\u001b[0m \u001b[1;32min\u001b[0m \u001b[0msorted\u001b[0m\u001b[1;33m(\u001b[0m\u001b[0mB\u001b[0m\u001b[1;33m,\u001b[0m \u001b[0mkey\u001b[0m\u001b[1;33m=\u001b[0m\u001b[1;32mlambda\u001b[0m \u001b[0mx\u001b[0m\u001b[1;33m:\u001b[0m \u001b[0mx\u001b[0m\u001b[1;33m[\u001b[0m\u001b[1;36m1\u001b[0m\u001b[1;33m]\u001b[0m\u001b[1;33m+\u001b[0m\u001b[0mx\u001b[0m\u001b[1;33m[\u001b[0m\u001b[1;36m0\u001b[0m\u001b[1;33m]\u001b[0m\u001b[1;33m)\u001b[0m\u001b[1;33m+\u001b[0m\u001b[0mA\u001b[0m\u001b[1;33m]\u001b[0m\u001b[1;33m\u001b[0m\u001b[0m\n\u001b[0;32m      9\u001b[0m \u001b[0mlogs\u001b[0m \u001b[1;33m=\u001b[0m \u001b[1;33m[\u001b[0m\u001b[1;34m'dig1 8 1 5 1'\u001b[0m\u001b[1;33m,\u001b[0m\u001b[1;34m'let1 art can'\u001b[0m\u001b[1;33m,\u001b[0m\u001b[1;34m'dig2 3 6'\u001b[0m\u001b[1;33m,\u001b[0m\u001b[1;34m'let2 own kit dig'\u001b[0m\u001b[1;33m,\u001b[0m\u001b[1;34m'let3 art zero'\u001b[0m\u001b[1;33m]\u001b[0m\u001b[1;33m\u001b[0m\u001b[0m\n\u001b[1;32m---> 10\u001b[1;33m \u001b[0mprint\u001b[0m\u001b[1;33m(\u001b[0m\u001b[0mreorder_log_file\u001b[0m\u001b[1;33m(\u001b[0m\u001b[0mlogs\u001b[0m\u001b[1;33m)\u001b[0m\u001b[1;33m)\u001b[0m\u001b[1;33m\u001b[0m\u001b[0m\n\u001b[0m",
      "\u001b[1;32m<ipython-input-20-f055e9c66a0f>\u001b[0m in \u001b[0;36mreorder_log_file\u001b[1;34m(logs)\u001b[0m\n\u001b[0;32m      1\u001b[0m \u001b[1;32mdef\u001b[0m \u001b[0mreorder_log_file\u001b[0m\u001b[1;33m(\u001b[0m\u001b[0mlogs\u001b[0m\u001b[1;33m)\u001b[0m\u001b[1;33m:\u001b[0m\u001b[1;33m\u001b[0m\u001b[0m\n\u001b[1;32m----> 2\u001b[1;33m     \u001b[0mA\u001b[0m\u001b[1;33m,\u001b[0m\u001b[0mB\u001b[0m\u001b[1;33m,\u001b[0m\u001b[0mC\u001b[0m\u001b[1;33m=\u001b[0m\u001b[1;33m[\u001b[0m\u001b[1;33m]\u001b[0m\u001b[1;33m,\u001b[0m\u001b[1;33m[\u001b[0m\u001b[1;33m]\u001b[0m\u001b[1;33m,\u001b[0m\u001b[1;33m[\u001b[0m\u001b[0mc\u001b[0m\u001b[1;33m.\u001b[0m\u001b[0msplit\u001b[0m\u001b[1;33m(\u001b[0m\u001b[1;33m)\u001b[0m \u001b[1;32mfor\u001b[0m \u001b[0mc\u001b[0m \u001b[1;32min\u001b[0m \u001b[0mC\u001b[0m\u001b[1;33m]\u001b[0m\u001b[1;33m\u001b[0m\u001b[0m\n\u001b[0m\u001b[0;32m      3\u001b[0m     \u001b[1;32mfor\u001b[0m \u001b[0mstring\u001b[0m \u001b[1;32min\u001b[0m \u001b[0mC\u001b[0m\u001b[1;33m:\u001b[0m\u001b[1;33m\u001b[0m\u001b[0m\n\u001b[0;32m      4\u001b[0m         \u001b[1;32mif\u001b[0m \u001b[0mC\u001b[0m\u001b[1;33m[\u001b[0m\u001b[1;36m1\u001b[0m\u001b[1;33m]\u001b[0m\u001b[1;33m.\u001b[0m\u001b[0misalpha\u001b[0m\u001b[1;33m(\u001b[0m\u001b[0mstring\u001b[0m\u001b[1;33m)\u001b[0m\u001b[1;33m:\u001b[0m\u001b[1;33m\u001b[0m\u001b[0m\n\u001b[0;32m      5\u001b[0m             \u001b[0mA\u001b[0m\u001b[1;33m.\u001b[0m\u001b[0mappend\u001b[0m\u001b[1;33m(\u001b[0m\u001b[0mstring\u001b[0m\u001b[1;33m)\u001b[0m\u001b[1;33m\u001b[0m\u001b[0m\n",
      "\u001b[1;31mUnboundLocalError\u001b[0m: local variable 'C' referenced before assignment"
     ]
    }
   ],
   "source": [
    "def reorder_log_file(logs):\n",
    "    A,B,C=[],[],[c.split() for c in C]\n",
    "    for string in C:\n",
    "        if C[1].isalpha(string):\n",
    "            A.append(string)\n",
    "        else:\n",
    "            B.append(string)\n",
    "    return[''.join for i in sorted(B, key=lambda x: x[1]+x[0])+A]\n",
    "logs = ['dig1 8 1 5 1','let1 art can','dig2 3 6','let2 own kit dig','let3 art zero']           \n",
    "print(reorder_log_file(logs))  "
   ]
  },
  {
   "cell_type": "code",
   "execution_count": 17,
   "metadata": {},
   "outputs": [
    {
     "ename": "UnboundLocalError",
     "evalue": "local variable 'C' referenced before assignment",
     "output_type": "error",
     "traceback": [
      "\u001b[1;31m---------------------------------------------------------------------------\u001b[0m",
      "\u001b[1;31mUnboundLocalError\u001b[0m                         Traceback (most recent call last)",
      "\u001b[1;32m<ipython-input-17-d3c853fc041d>\u001b[0m in \u001b[0;36m<module>\u001b[1;34m()\u001b[0m\n\u001b[0;32m      1\u001b[0m \u001b[0mlogs\u001b[0m \u001b[1;33m=\u001b[0m \u001b[1;33m[\u001b[0m\u001b[1;34m'dig1 8 1 5 1'\u001b[0m\u001b[1;33m,\u001b[0m\u001b[1;34m'let1 art can'\u001b[0m\u001b[1;33m,\u001b[0m\u001b[1;34m'dig2 3 6'\u001b[0m\u001b[1;33m,\u001b[0m\u001b[1;34m'let2 own kit dig'\u001b[0m\u001b[1;33m,\u001b[0m\u001b[1;34m'let3 art zero'\u001b[0m\u001b[1;33m]\u001b[0m\u001b[1;33m\u001b[0m\u001b[0m\n\u001b[0;32m      2\u001b[0m \u001b[1;31m#logs.sort(key=lambda x:x.split()[2][1])\u001b[0m\u001b[1;33m\u001b[0m\u001b[1;33m\u001b[0m\u001b[0m\n\u001b[1;32m----> 3\u001b[1;33m \u001b[0mprint\u001b[0m\u001b[1;33m(\u001b[0m\u001b[0mreorder_log_file\u001b[0m\u001b[1;33m(\u001b[0m\u001b[0mlogs\u001b[0m\u001b[1;33m)\u001b[0m\u001b[1;33m)\u001b[0m\u001b[1;33m\u001b[0m\u001b[0m\n\u001b[0m",
      "\u001b[1;32m<ipython-input-14-4898b34a4c8b>\u001b[0m in \u001b[0;36mreorder_log_file\u001b[1;34m(logs)\u001b[0m\n\u001b[0;32m      1\u001b[0m \u001b[1;32mdef\u001b[0m \u001b[0mreorder_log_file\u001b[0m\u001b[1;33m(\u001b[0m\u001b[0mlogs\u001b[0m\u001b[1;33m)\u001b[0m\u001b[1;33m:\u001b[0m\u001b[1;33m\u001b[0m\u001b[0m\n\u001b[1;32m----> 2\u001b[1;33m     \u001b[0mA\u001b[0m\u001b[1;33m,\u001b[0m\u001b[0mB\u001b[0m\u001b[1;33m,\u001b[0m\u001b[0mC\u001b[0m\u001b[1;33m=\u001b[0m\u001b[1;33m[\u001b[0m\u001b[1;33m]\u001b[0m\u001b[1;33m,\u001b[0m\u001b[1;33m[\u001b[0m\u001b[1;33m]\u001b[0m\u001b[1;33m,\u001b[0m\u001b[1;33m[\u001b[0m\u001b[0mC\u001b[0m\u001b[1;33m.\u001b[0m\u001b[0msplit\u001b[0m\u001b[1;33m(\u001b[0m\u001b[1;33m)\u001b[0m \u001b[1;32mfor\u001b[0m \u001b[0mc\u001b[0m \u001b[1;32min\u001b[0m \u001b[0mC\u001b[0m\u001b[1;33m]\u001b[0m\u001b[1;33m\u001b[0m\u001b[0m\n\u001b[0m\u001b[0;32m      3\u001b[0m     \u001b[1;32mif\u001b[0m \u001b[0mstring\u001b[0m \u001b[1;32min\u001b[0m \u001b[0mC\u001b[0m\u001b[1;33m:\u001b[0m\u001b[1;33m\u001b[0m\u001b[0m\n\u001b[0;32m      4\u001b[0m         \u001b[1;32mif\u001b[0m \u001b[0mC\u001b[0m\u001b[1;33m[\u001b[0m\u001b[1;36m1\u001b[0m\u001b[1;33m]\u001b[0m\u001b[1;33m.\u001b[0m\u001b[0misalpha\u001b[0m\u001b[1;33m(\u001b[0m\u001b[0mstring\u001b[0m\u001b[1;33m)\u001b[0m\u001b[1;33m:\u001b[0m\u001b[1;33m\u001b[0m\u001b[0m\n\u001b[0;32m      5\u001b[0m             \u001b[0mA\u001b[0m\u001b[1;33m.\u001b[0m\u001b[0mappend\u001b[0m\u001b[1;33m(\u001b[0m\u001b[0mstring\u001b[0m\u001b[1;33m)\u001b[0m\u001b[1;33m\u001b[0m\u001b[0m\n",
      "\u001b[1;31mUnboundLocalError\u001b[0m: local variable 'C' referenced before assignment"
     ]
    }
   ],
   "source": [
    "logs = ['dig1 8 1 5 1','let1 art can','dig2 3 6','let2 own kit dig','let3 art zero']\n",
    "#logs.sort(key=lambda x:x.split()[2][1])\n",
    "print(reorder_log_file(logs))  \n",
    "class Solution:\n",
    "    def reorderLogFiles(self, G: List[str]) -> List[str]:\n",
    "    \tA, B, G = [], [], [i.split() for i in G]\n",
    "    \tfor g in G:\n",
    "    \t\tif g[1].isnumeric(): B.append(g)\n",
    "    \t\telse: A.append(g)\n",
    "    \treturn [\" \".join(i) for i in sorted(A, key = lambda x: x[1:]+[x[0]]) + B]"
   ]
  },
  {
   "cell_type": "code",
   "execution_count": 62,
   "metadata": {},
   "outputs": [
    {
     "data": {
      "text/plain": [
       "['let1 art can',\n",
       " 'let3 art zero',\n",
       " 'let2 own kit dig',\n",
       " 'dig2 3 6',\n",
       " 'dig1 8 1 5 1']"
      ]
     },
     "execution_count": 62,
     "metadata": {},
     "output_type": "execute_result"
    }
   ],
   "source": [
    "log = [\"dig1 8 1 5 1\",\"let1 art can\",\"dig2 3 6\",\"let2 own kit dig\",\"let3 art zero\"]\n",
    "def reorder_logs(logs):\n",
    "    s,d=[],[]\n",
    "    for i in logs:\n",
    "            if i.split()[1].isalpha():\n",
    "                s.append(i)\n",
    "            else:\n",
    "                d.append(i)\n",
    "    \n",
    "    s.sort(key=lambda x:x.split()[1][0])\n",
    "    d.sort(key=lambda x:x.split()[1][0])\n",
    "    return s + d  \n",
    "reorder_logs(log)\n",
    "# Wrong anwser because it not sort the [1][1] element when [1][0] the same"
   ]
  },
  {
   "cell_type": "code",
   "execution_count": 1,
   "metadata": {},
   "outputs": [
    {
     "data": {
      "text/plain": [
       "['what goes around comes around',\n",
       " 'when in rome',\n",
       " 'all is fair in love and war']"
      ]
     },
     "execution_count": 1,
     "metadata": {},
     "output_type": "execute_result"
    }
   ],
   "source": [
    "phrases = ['when in rome','what goes around comes around','all is fair in love and war']\n",
    "#phrases = ['dig1 8 1 5 1','let1 art can','dig2 3 6','let2 own kit dig','let3 art zero']\n",
    "phrases.sort(key=lambda x: x.split()[2][1], reverse=True)\n",
    "phrases"
   ]
  },
  {
   "cell_type": "code",
   "execution_count": 10,
   "metadata": {},
   "outputs": [
    {
     "data": {
      "text/plain": [
       "list"
      ]
     },
     "execution_count": 10,
     "metadata": {},
     "output_type": "execute_result"
    }
   ],
   "source": [
    "from collections import defaultdict\n",
    "dict=defaultdict()\n",
    "dict.default_factory=dict.__len__\n",
    "dict[\"oanh\"]\n",
    "dict['tuyen']\n",
    "dict.items()\n",
    "V= defaultdict(list)\n",
    "list"
   ]
  },
  {
   "cell_type": "code",
   "execution_count": null,
   "metadata": {},
   "outputs": [],
   "source": [
    "'''690. Employee Importance: You are given a data structure of employee information, which includes the employee's unique id, his importance value and his direct subordinates' id.\n",
    "\n",
    "For example, employee 1 is the leader of employee 2, and employee 2 is the leader of employee 3. They have importance value 15, 10 and 5, respectively. Then employee 1 has a data structure like [1, 15, [2]], and employee 2 has [2, 10, [3]], and employee 3 has [3, 5, []]. Note that although employee 3 is also a subordinate of employee 1, the relationship is not direct.\n",
    "\n",
    "Now given the employee information of a company, and an employee id, you need to return the total importance value of this employee and all his subordinates.\n",
    "\n",
    "Example 1:\n",
    "\n",
    "Input: [[1, 5, [2, 3]], [2, 3, []], [3, 3, []]], 1\n",
    "Output: 11\n",
    "Explanation:\n",
    "Employee 1 has importance value 5, and he has two direct subordinates: employee 2 and employee 3. They both have importance value 3. So the total importance value of employee 1 is 5 + 3 + 3 = 11.\n",
    "\n",
    "Note:\n",
    "\n",
    "One employee has at most one direct leader and may have several subordinates.\n",
    "The maximum number of employees won't exceed 2000.'''"
   ]
  },
  {
   "cell_type": "code",
   "execution_count": 18,
   "metadata": {},
   "outputs": [],
   "source": [
    "class employee:\n",
    "    def __init__(self,id,importance,subordinates):\n",
    "        self.id=id\n",
    "        self.importance=importance\n",
    "        self.subordinates\n",
    "class solution:\n",
    "    def getImportance(self, employees,id):\n",
    "        dic_id={employee.id: employee for employee in employees}\n",
    "        importance=0\n",
    "        stack=[dict_id[id]]\n",
    "        while stack:\n",
    "            current_employee=stack.pop()\n",
    "            importance+=current_employee.importance\n",
    "            stack.append(dict_id[new_employee] for new_employee in subordinates)\n",
    "        return importance\n",
    "#solution.getImportance([[1, 5, [2, 3]], [2, 3, []], [3, 3, []]],[[1, 5, [2, 3]], [2, 3, []], [3, 3, []]], 1)"
   ]
  }
 ],
 "metadata": {
  "kernelspec": {
   "display_name": "Python 3",
   "language": "python",
   "name": "python3"
  },
  "language_info": {
   "codemirror_mode": {
    "name": "ipython",
    "version": 3
   },
   "file_extension": ".py",
   "mimetype": "text/x-python",
   "name": "python",
   "nbconvert_exporter": "python",
   "pygments_lexer": "ipython3",
   "version": "3.7.0"
  }
 },
 "nbformat": 4,
 "nbformat_minor": 2
}
